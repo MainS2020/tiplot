{
 "cells": [
  {
   "cell_type": "code",
   "execution_count": 1,
   "id": "7869b4da",
   "metadata": {},
   "outputs": [],
   "source": [
    "from exif import Image\n",
    "import pandas as pd\n",
    "import PIL\n",
    "import os\n",
    "import zmq\n",
    "import zlib\n",
    "import pyulog\n",
    "import pandas as pd\n",
    "import numpy as np\n",
    "import pickle\n",
    "from datetime import datetime"
   ]
  },
  {
   "cell_type": "code",
   "execution_count": 2,
   "id": "1249f5d7",
   "metadata": {},
   "outputs": [],
   "source": [
    "port = '5555'\n",
    "context = zmq.Context()\n",
    "socket = context.socket(zmq.REQ)\n",
    "socket.connect(\"tcp://0.0.0.0:%s\" % port)\n",
    "\n",
    "def send_zipped_pickle(socket, obj, flags=0, protocol=-1):\n",
    "    p = pickle.dumps(obj, protocol)\n",
    "    z = zlib.compress(p)\n",
    "    return socket.send(z, flags=flags)"
   ]
  },
  {
   "cell_type": "code",
   "execution_count": 3,
   "id": "3a05ca7c",
   "metadata": {},
   "outputs": [],
   "source": [
    "buff = {\n",
    "    \"timestamp_tiplot\": [],\n",
    "    \"timestamp\": [],\n",
    "    \"lat\": [],\n",
    "    \"lon\": [],\n",
    "    \"alt\": [],\n",
    "    \"zero\": [],\n",
    "    \"one\": [],\n",
    "}\n",
    "\n",
    "def image_coordinates(image_path):\n",
    "    global t\n",
    "    with open(image_path, 'rb') as src:\n",
    "        img = Image(src)\n",
    "    if img.has_exif:\n",
    "        try:\n",
    "            img.gps_longitude\n",
    "            coords = (decimal_coords(img.gps_latitude,\n",
    "                      img.gps_latitude_ref),\n",
    "                      decimal_coords(img.gps_longitude,\n",
    "                      img.gps_longitude_ref))\n",
    "        except AttributeError:\n",
    "            print('No Coordinates')\n",
    "    else:\n",
    "        print('The Image has no EXIF information')\n",
    "    timestamp = img.datetime_original\n",
    "    lat = coords[0]\n",
    "    lon = coords[1]\n",
    "    alt = img.gps_altitude\n",
    "    dt = datetime.strptime(timestamp, '%Y:%m:%d %H:%M:%S')\n",
    "    \n",
    "    buff['timestamp_tiplot'].append(dt.timestamp()/1e6)\n",
    "    buff['timestamp'].append(timestamp)\n",
    "    buff['lat'].append(lat)\n",
    "    buff['lon'].append(lon)\n",
    "    buff['alt'].append(alt)\n",
    "    \n",
    "    buff['zero'].append(0) # for qx,qy,qz\n",
    "    buff['one'].append(1) # for qw\n",
    "    \n",
    "def decimal_coords(coords, ref):\n",
    " decimal_degrees = coords[0] + coords[1] / 60 + coords[2] / 3600\n",
    " if ref == \"S\" or ref == \"W\":\n",
    "     decimal_degrees = -decimal_degrees\n",
    " return decimal_degrees\n",
    "\n",
    "for f in os.listdir(os.getcwd()+\"/photos/\"):\n",
    "    filename = os.getcwd()+\"/photos/\"+f\n",
    "    image_coordinates(filename)\n",
    "    "
   ]
  },
  {
   "cell_type": "code",
   "execution_count": 4,
   "id": "f0ce7dec",
   "metadata": {},
   "outputs": [],
   "source": [
    "data=pd.DataFrame.from_dict(buff)\n",
    "data = data.sort_values(by=['timestamp_tiplot'])\n",
    "datadict = {\"info\": data}\n"
   ]
  },
  {
   "cell_type": "code",
   "execution_count": 5,
   "id": "bacb17e7",
   "metadata": {},
   "outputs": [],
   "source": [
    "uav = {\n",
    "    \"name\": \"uav\",\n",
    "    \"alpha\": 1,\n",
    "    \"useRPY\": False,\n",
    "    \"useXYZ\": False,\n",
    "    \"pathColor\": \"#00ff1e\",\n",
    "    \"wireframe\": False,\n",
    "    \"color\": \"#ffffff\",\n",
    "    \"tracked\": False,\n",
    "    \"scale\": 1,\n",
    "    \"position\": {\n",
    "      \"table\": \"info\",\n",
    "      \"longitude\": \"lon\",\n",
    "      \"lattitude\": \"lat\",\n",
    "      \"altitude\": \"alt\"\n",
    "    },\n",
    "    \"attitude\": {\n",
    "      \"table\": \"info\",\n",
    "      \"q0\": \"one\",\n",
    "      \"q1\": \"zero\",\n",
    "      \"q2\": \"zero\",\n",
    "      \"q3\": \"zero\"\n",
    "    }\n",
    "  }\n"
   ]
  },
  {
   "cell_type": "code",
   "execution_count": 6,
   "id": "c7081b12",
   "metadata": {},
   "outputs": [],
   "source": [
    "send_zipped_pickle(socket, [datadict, [uav]])"
   ]
  }
 ],
 "metadata": {
  "kernelspec": {
   "display_name": "Python 3 (ipykernel)",
   "language": "python",
   "name": "python3"
  },
  "language_info": {
   "codemirror_mode": {
    "name": "ipython",
    "version": 3
   },
   "file_extension": ".py",
   "mimetype": "text/x-python",
   "name": "python",
   "nbconvert_exporter": "python",
   "pygments_lexer": "ipython3",
   "version": "3.10.6"
  }
 },
 "nbformat": 4,
 "nbformat_minor": 5
}
