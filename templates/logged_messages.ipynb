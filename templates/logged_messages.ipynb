{
 "cells": [
  {
   "cell_type": "markdown",
   "id": "e9d557d5",
   "metadata": {},
   "source": [
    "## Imports"
   ]
  },
  {
   "cell_type": "code",
   "execution_count": 1,
   "id": "02b9bde1",
   "metadata": {},
   "outputs": [],
   "source": [
    "import zmq\n",
    "import zlib\n",
    "import pyulog\n",
    "import pandas as pd\n",
    "import numpy as np\n",
    "import pickle\n",
    "from datetime import datetime"
   ]
  },
  {
   "cell_type": "markdown",
   "id": "695b03a1",
   "metadata": {},
   "source": [
    "## Socket config"
   ]
  },
  {
   "cell_type": "code",
   "execution_count": 2,
   "id": "28e028cf",
   "metadata": {},
   "outputs": [],
   "source": [
    "port = '5555'\n",
    "context = zmq.Context()\n",
    "socket = context.socket(zmq.REQ)\n",
    "socket.connect(\"tcp://0.0.0.0:%s\" % port)\n",
    "\n",
    "def send_zipped_pickle(socket, obj, flags=0, protocol=-1):\n",
    "    p = pickle.dumps(obj, protocol)\n",
    "    z = zlib.compress(p)\n",
    "    return socket.send(z, flags=flags)"
   ]
  },
  {
   "cell_type": "markdown",
   "id": "3b62481a",
   "metadata": {},
   "source": [
    "## Parser"
   ]
  },
  {
   "cell_type": "code",
   "execution_count": 3,
   "id": "7999d103",
   "metadata": {},
   "outputs": [],
   "source": [
    "ulg = None\n",
    "def parse_file(filename):\n",
    "    global ulg\n",
    "    ulg = pyulog.ULog(filename)\n",
    "\n",
    "    datadict = {}\n",
    "    modified_data = {}\n",
    "    for data in ulg.data_list:\n",
    "        if data.multi_id > 0:\n",
    "            name = f\"{data.name}_{data.multi_id}\"\n",
    "        else:\n",
    "            name = data.name\n",
    "        datadict[name] = pd.DataFrame(data.data)\n",
    "        datadict[name]['timestamp_tiplot'] = datadict[name]['timestamp'] /1e6\n",
    "    return datadict"
   ]
  },
  {
   "cell_type": "code",
   "execution_count": 4,
   "id": "92c83b71",
   "metadata": {},
   "outputs": [],
   "source": [
    "datadict = parse_file('/home/hamza/Documents/tiplot/logs/mega.ulg')"
   ]
  },
  {
   "cell_type": "markdown",
   "id": "de29b5ff",
   "metadata": {},
   "source": [
    "## Adding logged_messages to datadict"
   ]
  },
  {
   "cell_type": "code",
   "execution_count": 5,
   "id": "0954836c",
   "metadata": {},
   "outputs": [],
   "source": [
    "message_data = []\n",
    "for message in ulg.logged_messages:\n",
    "    message_dict = {}\n",
    "    message_dict['timestamp'] = message.timestamp\n",
    "    message_dict['message'] = message.message\n",
    "    message_dict['timestamp_tiplot'] = message_dict['timestamp'] / 1e6\n",
    "    message_data.append(message_dict)\n",
    "\n",
    "datadict['ulg'] = {}\n",
    "datadict['ulg'] = pd.DataFrame(message_data)"
   ]
  },
  {
   "cell_type": "markdown",
   "id": "af64827c",
   "metadata": {},
   "source": [
    "## Entities"
   ]
  },
  {
   "cell_type": "code",
   "execution_count": 6,
   "id": "c22c4db2",
   "metadata": {},
   "outputs": [],
   "source": [
    "  uav = {\n",
    "    \"name\": \"entity\",\n",
    "    \"alpha\": 1,\n",
    "    \"useRPY\": False,\n",
    "    \"useXYZ\": True,\n",
    "    \"pathColor\": \"#007bff\",\n",
    "    \"wireframe\": False,\n",
    "    \"color\": \"#ffffff\",\n",
    "    \"tracked\": True,\n",
    "    \"scale\": 0.5,\n",
    "    \"position\": {\n",
    "      \"table\": \"vehicle_local_position\",\n",
    "      \"x\": \"x\",\n",
    "      \"y\": \"y\",\n",
    "      \"z\": \"z\"\n",
    "    },\n",
    "    \"attitude\": {\n",
    "      \"table\": \"vehicle_attitude\",\n",
    "      \"q0\": \"q[0]\",\n",
    "      \"q1\": \"q[1]\",\n",
    "      \"q2\": \"q[2]\",\n",
    "      \"q3\": \"q[3]\"\n",
    "    }\n",
    "  }\n",
    "\n",
    "  uav_setpoint = {\n",
    "    \"name\": \"entity setpoint\",\n",
    "    \"alpha\": 1,\n",
    "    \"useRPY\": False,\n",
    "    \"useXYZ\": True,\n",
    "    \"pathColor\": \"#007bff\",\n",
    "    \"wireframe\": False,\n",
    "    \"color\": \"#ffffff\",\n",
    "    \"tracked\": True,\n",
    "    \"scale\": 0.5,\n",
    "    \"position\": {\n",
    "      \"table\": \"vehicle_local_position_setpoint\",\n",
    "      \"x\": \"x\",\n",
    "      \"y\": \"y\",\n",
    "      \"z\": \"z\"\n",
    "    },\n",
    "    \"attitude\": {\n",
    "      \"table\": \"vehicle_attitude\",\n",
    "      \"q0\": \"q[0]\",\n",
    "      \"q1\": \"q[1]\",\n",
    "      \"q2\": \"q[2]\",\n",
    "      \"q3\": \"q[3]\"\n",
    "    }\n",
    "  }"
   ]
  },
  {
   "cell_type": "markdown",
   "id": "42d40008",
   "metadata": {},
   "source": [
    "## Sending data over the socket"
   ]
  },
  {
   "cell_type": "code",
   "execution_count": 7,
   "id": "ba598ceb",
   "metadata": {},
   "outputs": [],
   "source": [
    "send_zipped_pickle(socket, [datadict, [uav, uav_setpoint]])"
   ]
  }
 ],
 "metadata": {
  "kernelspec": {
   "display_name": "Python 3 (ipykernel)",
   "language": "python",
   "name": "python3"
  },
  "language_info": {
   "codemirror_mode": {
    "name": "ipython",
    "version": 3
   },
   "file_extension": ".py",
   "mimetype": "text/x-python",
   "name": "python",
   "nbconvert_exporter": "python",
   "pygments_lexer": "ipython3",
   "version": "3.10.6"
  }
 },
 "nbformat": 4,
 "nbformat_minor": 5
}
